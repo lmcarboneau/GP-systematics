{
 "cells": [
  {
   "cell_type": "markdown",
   "metadata": {},
   "source": [
    "# Useful Notebook Resources"
   ]
  },
  {
   "cell_type": "markdown",
   "metadata": {},
   "source": [
    "The following notebook outlines resources and examples for creating notebooks with extended features.\n",
    "\n",
    "***"
   ]
  },
  {
   "cell_type": "markdown",
   "metadata": {},
   "source": [
    "## Basic extensions \n",
    "\n",
    "The Calysto package is a set of notebook extensions that provide extra tools, including spell checking and two column cells for side-by-side code and output. It also allows you to create reference sections using standard BibTeX formatting. The package is available on the [Calysto/notebook-extentsions](https://github.com/Calysto/notebook-extensions) GitHub page"
   ]
  },
  {
   "cell_type": "markdown",
   "metadata": {},
   "source": [
    "Here is an example of a citation<a id=\"ref-1\" href=\"#cite-misc-example-1\">1</a> using Calysto; the BibTeX used to create the reference is in an automatically hidden a Markdown cell directly below this text. Changing the cell to Raw will display the cell text without changing its functionality"
   ]
  },
  {
   "cell_type": "markdown",
   "metadata": {},
   "source": [
    "<!--bibtex \n",
    "\n",
    "@misc{misc-example-1,\n",
    "  author       = {Peter Isley}, \n",
    "  title        = {The title of the work},\n",
    "  howpublished = {How it was published},\n",
    "  month        = 7,\n",
    "  year         = 1993,\n",
    "  note         = {An optional note}\n",
    "}\n",
    "\n",
    "-->"
   ]
  },
  {
   "cell_type": "markdown",
   "metadata": {},
   "source": [
    "# References\n",
    "\n",
    "<a id=\"cite-misc-example-1\"/><sup><a href=#ref-1>[^]</a></sup>Peter Isley. 1993. _The title of the work_.\n",
    "\n"
   ]
  },
  {
   "cell_type": "markdown",
   "metadata": {},
   "source": [
    "Examples of various BibTeX syntax can be found [here](https://verbosus.com/bibtex-style-examples.html); in general however, best practice is to use the syntax recommended by the work itself where available. For example, see [this page](https://www.scipy.org/citing.html) detailing references for SciPy and related packages.\n",
    "\n",
    "More information about using Calysto and BibTeX together in notebooks can be found [here](https://jupyter.brynmawr.edu/services/public/dblank/Jupyter%20Notebook%20Users%20Manual.ipynb#5.-Bibliographic-Support), as part of an excellent user manual for creating Jupyter notebooks.\n",
    "\n",
    "***"
   ]
  },
  {
   "cell_type": "markdown",
   "metadata": {},
   "source": [
    "## Formatting\n",
    "\n",
    "Using Markdown can sometimes be frustrating, particularly when it isn't your native word processing language.\n",
    "\n",
    "While the [Markdown Guide](https://www.markdownguide.org/) has excellent resources in general, the [Basic](https://www.markdownguide.org/basic-syntax) and [Extended](https://www.markdownguide.org/extended-syntax/) syntax pages should provide most of the answers to general formatting questions at a glance."
   ]
  },
  {
   "cell_type": "code",
   "execution_count": null,
   "metadata": {},
   "outputs": [],
   "source": []
  }
 ],
 "metadata": {
  "kernelspec": {
   "display_name": "Python 3",
   "language": "python",
   "name": "python3"
  },
  "language_info": {
   "codemirror_mode": {
    "name": "ipython",
    "version": 3
   },
   "file_extension": ".py",
   "mimetype": "text/x-python",
   "name": "python",
   "nbconvert_exporter": "python",
   "pygments_lexer": "ipython3",
   "version": "3.6.9"
  }
 },
 "nbformat": 4,
 "nbformat_minor": 2
}
