{
 "cells": [
  {
   "cell_type": "markdown",
   "metadata": {},
   "source": [
    "# Practice Model: A Simple Starter\n",
    "### Building a GP where "
   ]
  },
  {
   "cell_type": "markdown",
   "metadata": {},
   "source": [
    "$\n",
    "\\begin{align}\n",
    "\\Delta \\nu \\sim \\mathcal{GP}(f(mass), k(mass,mass^{\\prime}))\n",
    "\\end{align}\n",
    "$"
   ]
  },
  {
   "cell_type": "markdown",
   "metadata": {},
   "source": [
    "We'll start out by using `numpy` as a test to prove to ourselves that we understand GP implementations in general.\n",
    "\n",
    "> We are looking for the functional form so that we can implement the likelihood calculation later.  \n",
    "The independent parameter is mass and the observed is $\\Delta$$\\nu$\n",
    "\n",
    "***"
   ]
  },
  {
   "cell_type": "markdown",
   "metadata": {},
   "source": [
    "### Some assumptions\n",
    "In the first place, since this is a \"simple\" starter model, we can make some decisions before we even start to guide the process of implementing the model. Let's start with a fairly common GP, where the mean function is zero and the covariance function is a squared exponential. Why? Because that's where everyone starts from."
   ]
  },
  {
   "cell_type": "markdown",
   "metadata": {},
   "source": [
    "This squared exponential says that values of $mass$ and $mass^\\prime$ that are close to each other result in values of $k$ closer to 1. This ends up looking like a diagonal covariance matrix. \n",
    "\n",
    "Let's talk about why that makes sense -HERE-\n",
    "\n",
    "***"
   ]
  },
  {
   "cell_type": "code",
   "execution_count": 1,
   "metadata": {},
   "outputs": [],
   "source": [
    "import numpy as np\n",
    "import matplotlib.pyplot as plt\n",
    "import seaborn as sns"
   ]
  },
  {
   "cell_type": "markdown",
   "metadata": {},
   "source": [
    "Our observed value is $\\Delta$$\\nu$ - for now we'll call it `Dnu` for ease of typing  \n",
    "Our independent parameter is `mass` - this is a perfectly fine variable name, but remember that if you're following a tutorial for more complicated GP implementations, it's likely to be called $x$ "
   ]
  },
  {
   "cell_type": "markdown",
   "metadata": {},
   "source": [
    "Let's have a look at the dataset given:"
   ]
  },
  {
   "cell_type": "code",
   "execution_count": 2,
   "metadata": {},
   "outputs": [],
   "source": [
    "data = np.loadtxt('./Lindsey_version1.csv', delimiter=',', skiprows=1)\n",
    "Dnu = data[:,1]\n",
    "mass = data [:, 0]"
   ]
  },
  {
   "cell_type": "code",
   "execution_count": 3,
   "metadata": {},
   "outputs": [
    {
     "data": {
      "text/plain": [
       "<matplotlib.collections.PathCollection at 0x11ac24d50>"
      ]
     },
     "execution_count": 3,
     "metadata": {},
     "output_type": "execute_result"
    },
    {
     "data": {
      "image/png": "[encoded data removed]",
      "text/plain": [
       "<Figure size 432x288 with 1 Axes>"
      ]
     },
     "metadata": {
      "needs_background": "light"
     },
     "output_type": "display_data"
    }
   ],
   "source": [
    "# TODO: Make this not as awful\n",
    "fig, ax = plt.subplots()\n",
    "ax.scatter(mass, Dnu)"
   ]
  },
  {
   "cell_type": "markdown",
   "metadata": {},
   "source": [
    "What we think we see in this plot is a relationship between stellar mass and observed $\\Delta$$\\nu$.  \n",
    "That is, this plot looks like it's trying to inform us that the large frequency separation decreases as stellar mass increases  \n",
    "It's also a really bad looking plot, but `TODO`: fix it later  \n",
    "\n",
    "*** \n",
    "\n",
    "Our goal is to try to find a good (even if it's wrong) posterior estimate of the functional form.  \n",
    "Posterior estimate: \"the shaded region\" <- what I think of as 'the area under the curve' except it's a space shaped by the mean function, constrained by observed points, and bounded by the standard deviation"
   ]
  },
  {
   "cell_type": "markdown",
   "metadata": {},
   "source": [
    "***\n",
    "\n",
    "### Gaussian process in numpy\n",
    "\n",
    "_Step 1: Start with a prior_  \n",
    "_Step 2: Compute the posterior_  \n",
    "_Step 3: Sample and compare_  \n",
    "\n",
    " [ ] Construct a vector of test inputs evenly spaced so as to seem continuous ($X$$_*$, or mass$_*$)  \n",
    " [ ] Define the kernel function - Squared Exponential kernel  \n",
    " [ ] Figure out the hyperparameters $\\sigma$$_f$$^2$ and length scale  \n",
    " [ ] Use the kernel function to create the matrices for computing the covariance and the mean of the posterior ($cov$($f_*$) & $\\mu$)  \n",
    " \n",
    "\n",
    "***"
   ]
  },
  {
   "cell_type": "markdown",
   "metadata": {},
   "source": [
    "### Some useful definitions before we move on:\n",
    "##### Hyperparameter:\n",
    "parameters of the covariance function; $\\theta$ is often used to represent this in formulae?\n",
    "\n",
    "##### Overfitting/Overfitted Model:\n",
    "a statistical model that contains more parameters than are justified by the data; a model that \"memorizes\" training data instead of \"learning\" a trend\n",
    "\n",
    "##### Placeholer:\n",
    "some thing that I would benefit from having a definition that's easy to flip back to in moments of foggy understanding"
   ]
  },
  {
   "cell_type": "code",
   "execution_count": 4,
   "metadata": {},
   "outputs": [],
   "source": [
    "# What if the issue is that the observerd values need to be normalized?\n",
    "# pretty sure that's not the problem actually"
   ]
  },
  {
   "cell_type": "code",
   "execution_count": 10,
   "metadata": {},
   "outputs": [],
   "source": [
    "from scipy.stats import multivariate_normal"
   ]
  },
  {
   "cell_type": "code",
   "execution_count": 13,
   "metadata": {},
   "outputs": [],
   "source": [
    "# there are 53 points of data, so let's try 1k test points in the vector?\n",
    "n = 4000\n",
    "x_s = np.linspace(0.7, 2.5, n) # ranged from np.min(mass) to np.max(mass) with wiggle\n",
    "\n",
    "# just call the hyperparameters what they are because there's no need to be so obfuscating folks\n",
    "sigma2 =  3 # variance of the (noise free) signal; as latex $\\sigma$$_f$$^2$\n",
    "length_scale = 10"
   ]
  },
  {
   "cell_type": "markdown",
   "metadata": {},
   "source": [
    "Placeholder for an informative comment"
   ]
  },
  {
   "cell_type": "code",
   "execution_count": 14,
   "metadata": {},
   "outputs": [],
   "source": [
    "def exponential_cov(x, x_p, sig2, ls):\n",
    "    return sig2 * np.exp( -1/(2*ls**2)*np.abs(x[:,np.newaxis]-x_p[:,np.newaxis ].T)**2)"
   ]
  },
  {
   "cell_type": "markdown",
   "metadata": {},
   "source": [
    "Placeholder for an informative comment"
   ]
  },
  {
   "cell_type": "code",
   "execution_count": 15,
   "metadata": {},
   "outputs": [],
   "source": [
    "# Generally I prefer the A,B,C format, but it became harder to see the references at a glance later\n",
    "Kss = exponential_cov(x_s ,x_s,sigma2,length_scale)\n",
    "Ks = exponential_cov(mass,x_s,sigma2,length_scale)\n",
    "K = exponential_cov(mass,mass,sigma2,length_scale)"
   ]
  },
  {
   "cell_type": "markdown",
   "metadata": {},
   "source": [
    "Placeholder for an informative comment"
   ]
  },
  {
   "cell_type": "code",
   "execution_count": 16,
   "metadata": {},
   "outputs": [],
   "source": [
    "mu_post = (Ks.T@np.linalg.inv(K))@Dnu\n",
    "K_post = Kss - Ks.T@np.linalg.inv(K)@Ks"
   ]
  },
  {
   "cell_type": "markdown",
   "metadata": {},
   "source": [
    "Yet another placeholder for an informative comment!"
   ]
  },
  {
   "cell_type": "code",
   "execution_count": 21,
   "metadata": {},
   "outputs": [],
   "source": [
    "s = 100\n",
    "K = exponential_cov(mass,mass,sigma2,length_scale) + 0.1* np.eye(len(mass))\n",
    "mu_post = (Ks.T@np.linalg.inv(K))@(Dnu)\n",
    "K_post = Kss - Ks.T@np.linalg.inv(K)@Ks\n",
    "fs = multivariate_normal (mean=mu_post ,cov=K_post , allow_singular =True).rvs(s).T"
   ]
  },
  {
   "cell_type": "code",
   "execution_count": 22,
   "metadata": {},
   "outputs": [
    {
     "data": {
      "image/png": "[encoded data removed]",
      "text/plain": [
       "<Figure size 432x288 with 1 Axes>"
      ]
     },
     "metadata": {
      "needs_background": "light"
     },
     "output_type": "display_data"
    },
    {
     "data": {
      "image/png": "[encoded data removed]",
      "text/plain": [
       "<Figure size 432x288 with 1 Axes>"
      ]
     },
     "metadata": {
      "needs_background": "light"
     },
     "output_type": "display_data"
    }
   ],
   "source": [
    "plt.plot(x_s ,fs ,'gray') # Plot the samples\n",
    "plt.scatter(mass,Dnu,zorder =3)\n",
    "plt.title('l = sqrt(2), with noise')\n",
    "plt.show ()\n",
    "plt.plot(x_s ,mu_post ,'black') \n",
    "# Plot credibility regions\n",
    "plt. fill_between (x_s ,mu_post + 3*np.sqrt(np.diag(K_post)),mu_post - 3*np.sqrt(np.diag(K_post)),color='lightgray')\n",
    "plt. fill_between (x_s ,mu_post + 2*np.sqrt(np.diag(K_post)),mu_post - 2*np.sqrt(np.diag(K_post)),color='darkgray')\n",
    "plt. fill_between (x_s ,mu_post + 1*np.sqrt(np.diag(K_post)),mu_post - 1*np.sqrt(np.diag(K_post)),color='gray')\n",
    "plt.scatter(mass,Dnu,zorder =3)\n",
    "plt.title('l = sqrt(2), with noise')\n",
    "plt.show ()"
   ]
  },
  {
   "cell_type": "markdown",
   "metadata": {},
   "source": []
  },
  {
   "cell_type": "code",
   "execution_count": null,
   "metadata": {},
   "outputs": [],
   "source": []
  },
  {
   "cell_type": "code",
   "execution_count": null,
   "metadata": {},
   "outputs": [],
   "source": []
  }
 ],
 "metadata": {
  "kernelspec": {
   "display_name": "Python 3",
   "language": "python",
   "name": "python3"
  },
  "language_info": {
   "codemirror_mode": {
    "name": "ipython",
    "version": 3
   },
   "file_extension": ".py",
   "mimetype": "text/x-python",
   "name": "python",
   "nbconvert_exporter": "python",
   "pygments_lexer": "ipython3",
   "version": "3.7.6"
  }
 },
 "nbformat": 4,
 "nbformat_minor": 2
}
