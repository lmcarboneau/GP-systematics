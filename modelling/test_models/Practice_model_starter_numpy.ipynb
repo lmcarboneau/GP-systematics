{
 "cells": [
  {
   "cell_type": "markdown",
   "metadata": {},
   "source": [
    "# Practice Model: A Simple Starter"
   ]
  },
  {
   "cell_type": "markdown",
   "metadata": {},
   "source": [
    "### Building a GP where "
   ]
  },
  {
   "cell_type": "markdown",
   "metadata": {},
   "source": [
    "$\n",
    "\\begin{align}\n",
    "\\Delta \\nu \\sim \\mathcal{GP}(f(mass), k(mass,mass^{\\prime}))\n",
    "\\end{align}\n",
    "$"
   ]
  },
  {
   "cell_type": "markdown",
   "metadata": {},
   "source": [
    "We'll start out by using `numpy` as a test to prove to ourselves that we understand GP implementations in general.\n",
    "\n",
    "> We are looking for the functional form so that we can implement the likelihood calculation later.  \n",
    "The independent parameter is mass and the observed is $\\Delta$$\\nu$\n",
    "\n",
    "***"
   ]
  },
  {
   "cell_type": "markdown",
   "metadata": {},
   "source": [
    "### Some assumptions"
   ]
  },
  {
   "cell_type": "markdown",
   "metadata": {},
   "source": [
    "In the first place, since this is a \"simple\" starter model, we can make some decisions before we even start to guide the process of implementing the model. Let's start with a fairly common GP, where the mean function is zero and the covariance function is a squared exponential. Why? Because that's where everyone starts from."
   ]
  },
  {
   "cell_type": "markdown",
   "metadata": {},
   "source": [
    "This squared exponential says that values of $mass$ and $mass^\\prime$ that are close to each other result in values of $k$ closer to 1. This ends up looking like a diagonal covariance matrix. \n",
    "\n",
    "Let's talk about why that makes sense -HERE-\n",
    "\n",
    "***"
   ]
  },
  {
   "cell_type": "code",
   "execution_count": 1,
   "metadata": {},
   "outputs": [],
   "source": [
    "import numpy as np\n",
    "import matplotlib.pyplot as plt\n",
    "import seaborn as sns"
   ]
  },
  {
   "cell_type": "markdown",
   "metadata": {},
   "source": [
    "Our observed value is $\\Delta$$\\nu$ - for now we'll call it `Dnu` for ease of typing  \n",
    "Our independent parameter is `mass` - this is a perfectly fine variable name, but remember that if you're following a tutorial for more complicated GP implementations, it's likely to be called $x$ "
   ]
  },
  {
   "cell_type": "markdown",
   "metadata": {},
   "source": [
    "Let's have a look at the dataset given:"
   ]
  },
  {
   "cell_type": "code",
   "execution_count": 2,
   "metadata": {},
   "outputs": [],
   "source": [
    "data = np.loadtxt('./Lindsey_version1.csv', delimiter=',', skiprows=1)\n",
    "Dnu = data[:,1]\n",
    "mass = data [:, 0]"
   ]
  },
  {
   "cell_type": "code",
   "execution_count": 3,
   "metadata": {},
   "outputs": [
    {
     "data": {
      "text/plain": [
       "<matplotlib.collections.PathCollection at 0x7f5abdaa63c8>"
      ]
     },
     "execution_count": 3,
     "metadata": {},
     "output_type": "execute_result"
    },
    {
     "data": {
      "image/png": "[encoded data removed]",
      "text/plain": [
       "<Figure size 432x288 with 1 Axes>"
      ]
     },
     "metadata": {
      "needs_background": "light"
     },
     "output_type": "display_data"
    }
   ],
   "source": [
    "# TODO: Make this not as awful\n",
    "fig, ax = plt.subplots()\n",
    "ax.scatter(mass, Dnu)"
   ]
  },
  {
   "cell_type": "markdown",
   "metadata": {},
   "source": [
    "What we think we see in this plot is a relationship between stellar mass and observed $\\Delta$$\\nu$.  \n",
    "That is, this plot looks like it's trying to inform us that the large frequency separation decreases as stellar mass increases  \n",
    "It's also a really bad looking plot, but `TODO`: fix it later  \n",
    "\n",
    "*** \n",
    "\n",
    "Our goal is to try to find a good (even if it's wrong) posterior estimate of the functional form.  \n",
    "Posterior estimate: \"the shaded region\" <- what I think of as 'the area under the curve' except it's a space shaped by the mean function, constrained by observed points, and bounded by the standard deviation"
   ]
  },
  {
   "cell_type": "markdown",
   "metadata": {},
   "source": [
    "***"
   ]
  },
  {
   "cell_type": "markdown",
   "metadata": {},
   "source": [
    "### Gaussian process in numpy"
   ]
  },
  {
   "cell_type": "markdown",
   "metadata": {},
   "source": [
    "_Step 1: Start with a prior_  \n",
    "_Step 2: Compute the posterior_  \n",
    "_Step 3: Sample and compare_  \n",
    "\n",
    " [ ] Construct a vector of test inputs evenly spaced so as to seem continuous ($X$$_*$, or mass$_*$)  \n",
    " [ ] Define the kernel function - Squared Exponential kernel  \n",
    " [ ] Figure out the hyperparameters $\\sigma$$_f$$^2$ and length scale  \n",
    " [ ] Use the kernel function to create the matrices for computing the covariance and the mean of the posterior ($cov$($f_*$) & $\\mu$)  \n",
    " \n",
    "\n",
    "***"
   ]
  },
  {
   "cell_type": "markdown",
   "metadata": {},
   "source": [
    "### Some useful definitions before we move on:"
   ]
  },
  {
   "cell_type": "markdown",
   "metadata": {},
   "source": [
    "##### Hyperparameter:"
   ]
  },
  {
   "cell_type": "markdown",
   "metadata": {},
   "source": [
    "parameters of the covariance function; \"kernel parameters\" are hyperparameters"
   ]
  },
  {
   "cell_type": "markdown",
   "metadata": {},
   "source": [
    "##### Overfitting/Overfitted Model:"
   ]
  },
  {
   "cell_type": "markdown",
   "metadata": {},
   "source": [
    "a statistical model that contains more parameters than are justified by the data; a model that \"memorizes\" training data instead of \"learning\" a trend"
   ]
  },
  {
   "cell_type": "markdown",
   "metadata": {},
   "source": [
    "##### Placeholer:"
   ]
  },
  {
   "cell_type": "markdown",
   "metadata": {},
   "source": [
    "some thing that I would benefit from having a definition that's easy to flip back to in moments of foggy understanding"
   ]
  },
  {
   "cell_type": "markdown",
   "metadata": {},
   "source": [
    "***  \n",
    "\n",
    "The function below is from [Martin Krasser on GitHub](https://github.com/krasserm/bayesian-machine-learning/blob/af6882305d9d65dbbf60fd29b117697ef250d4aa/gaussian_processes_util.py#L7)"
   ]
  },
  {
   "cell_type": "code",
   "execution_count": 5,
   "metadata": {},
   "outputs": [],
   "source": [
    "def plot_gp(mu, cov, X, X_train=None, Y_train=None, samples=[]):\n",
    "    \"\"\"\n",
    "    from the Bayesian Machine Learning notebooks page \n",
    "    \"\"\"\n",
    "    X = X.ravel()\n",
    "    mu = mu.ravel()\n",
    "    uncertainty = 1.96 * np.sqrt(np.diag(cov))\n",
    "    \n",
    "    plt.fill_between(X, mu + uncertainty, mu - uncertainty, alpha=0.3)\n",
    "    plt.plot(X, mu, label='Mean')\n",
    "    for i, sample in enumerate(samples):\n",
    "        plt.plot(X, sample, lw=1, ls='--', label=f'Sample {i+1}')\n",
    "    if X_train is not None:\n",
    "        plt.plot(X_train, Y_train, 'rx')\n",
    "    plt.legend()"
   ]
  },
  {
   "cell_type": "markdown",
   "metadata": {},
   "source": [
    "#### Squared Exponential Covariance"
   ]
  },
  {
   "cell_type": "markdown",
   "metadata": {},
   "source": [
    "There seems to be some weird lack of consensus about what the squared exponential looks like.  \n",
    "\n",
    "Rasmussen+(2006) has the form  \n",
    "$k(x_p, x_q) = \\sigma^2_p \\Sigma \\phi_c(x_p)\\phi_c(x_q)  $\n",
    "\n",
    "or  $\\sqrt\\pi \\ell \\sigma^2_p exp(-\\frac {(x_p - x_q)^2}{2(\\sqrt2 \\ell)^2})$  \n",
    "  \n",
    "<br><br>\n",
    "PyMC3 has the form  \n",
    "\n",
    "$k(x, x') = exp[\\frac{-(x - x')^2}{2\\ell^2}]$  \n",
    "But I'm not really sure where the $\\sigma^2$ term went, how they've implemented things... is it assumed to be 1?\n",
    "\n",
    "<br><br>\n",
    "There's also  \n",
    "$k(x_i, x_j) = \\sigma^2_f exp(\\frac {-1}{2\\ell^2} (x_i - x_j)^T(x_i - x_j))  $  \n",
    "And I'm using this one today\n",
    "\n",
    "<br><br>\n",
    "And I've seen  \n",
    "$k(x, x') = \\sigma^2_f e^{-\\frac{1}{2\\ell^2}\\Vert{x - x'}^2\\Vert}$"
   ]
  },
  {
   "cell_type": "code",
   "execution_count": 6,
   "metadata": {},
   "outputs": [],
   "source": [
    "def exponential_cov(x1, x2, sigma_f, ls):\n",
    "    \"\"\"\n",
    "    Note the cdist function exists for x1 and x2 that are 2D arrays\n",
    "    \"\"\"\n",
    "    square_dist = np.sum(x1**2, 1).reshape(-1, 1) + np.sum(x2**2, 1) - 2 * np.dot(x1, x2.T)\n",
    "    return sigma_f**2 * np.exp((-1/(2 * ls**2)) * square_dist)"
   ]
  },
  {
   "cell_type": "markdown",
   "metadata": {},
   "source": [
    "Above, we define the kernel  \n",
    "\n",
    "Below, we define a way to compute the posterior with training data  \n",
    "There are some other syntax inconsistencies in the documentation and examples floating around; I've done a little to keep them straight, but other than being overly verbose at all times there's no straightforward fix"
   ]
  },
  {
   "cell_type": "markdown",
   "metadata": {},
   "source": [
    "This bit is sometimes written with matrices labeled A, B, C  \n",
    "Sometimes it's written K, K_s, and K_ss  \n",
    "\n",
    "I don't know which I prefer, but K_ is easy to read at a glance"
   ]
  },
  {
   "cell_type": "code",
   "execution_count": 7,
   "metadata": {},
   "outputs": [],
   "source": [
    "from numpy.linalg import inv\n",
    "\n",
    "def posterior_pred(X_s, X_train, Y_train, sigma_f, ls, sigma_y=1e-8):\n",
    "    \"\"\"\n",
    "    Note: the _s is represented as a _* in Rassmussen+(2006); so mu_s is $f_*$ in the given equations\n",
    "    \"\"\"\n",
    "    K = exponential_cov(X_train, X_train, sigma_f, ls) + sigma_y**2 * np.eye(len(X_train))\n",
    "    K_s = exponential_cov(X_train, X_s, sigma_f, ls)\n",
    "    K_ss = exponential_cov(X_s, X_s, sigma_f, ls) + 1e-8 * np.eye(len(X_s))\n",
    "    \n",
    "    \n",
    "    # Rassmussen+(2006) eq. 2.23 - GP posterior mean \n",
    "    mu_s = K_s.T.dot(inv(K)).dot(Y_train)\n",
    "    \n",
    "    # Rassmussen+(2006) eq. 2.24 - GP posterior covariance\n",
    "    cov_s = K_ss - K_s.T.dot(inv(K)).dot(K_s)\n",
    "    \n",
    "    return mu_s, cov_s"
   ]
  },
  {
   "cell_type": "markdown",
   "metadata": {},
   "source": [
    "### Can we sample the posterior yet?  "
   ]
  },
  {
   "cell_type": "markdown",
   "metadata": {},
   "source": [
    "Yet another placeholder for an informative comment!"
   ]
  },
  {
   "cell_type": "code",
   "execution_count": 106,
   "metadata": {},
   "outputs": [],
   "source": [
    "# there are 53 points of data, so let's try 3k test points in the vector?\n",
    "X = np.linspace(.71, 2.5, 3000).reshape(-1, 1)\n",
    "\n",
    "# just call the hyperparameters what they are because there's no need to be so obfuscating folks\n",
    "sigma2 =  20 # variance of the (noise free) signal; as latex $\\sigma$$_f$$^2$\n",
    "length_scale = 0.8"
   ]
  },
  {
   "cell_type": "code",
   "execution_count": 107,
   "metadata": {},
   "outputs": [],
   "source": [
    "mu_s, cov_s = posterior_pred(X, mass.reshape(-1, 1), Dnu, sigma2, length_scale, .8)\n",
    "\n",
    "samples = np.random.multivariate_normal(mu_s.ravel(), cov_s, 3)"
   ]
  },
  {
   "cell_type": "code",
   "execution_count": 108,
   "metadata": {},
   "outputs": [
    {
     "data": {
      "image/png": "[encoded data removed]",
      "text/plain": [
       "<Figure size 432x288 with 1 Axes>"
      ]
     },
     "metadata": {
      "needs_background": "light"
     },
     "output_type": "display_data"
    }
   ],
   "source": [
    "plot_gp(mu_s, cov_s, X, mass, Dnu, samples=samples)"
   ]
  },
  {
   "cell_type": "markdown",
   "metadata": {},
   "source": [
    "That looks pretty rough. What makes it pull so hard on the right-hand side?"
   ]
  },
  {
   "cell_type": "code",
   "execution_count": null,
   "metadata": {},
   "outputs": [],
   "source": []
  },
  {
   "cell_type": "code",
   "execution_count": null,
   "metadata": {},
   "outputs": [],
   "source": []
  }
 ],
 "metadata": {
  "kernelspec": {
   "display_name": "Python 3",
   "language": "python",
   "name": "python3"
  },
  "language_info": {
   "codemirror_mode": {
    "name": "ipython",
    "version": 3
   },
   "file_extension": ".py",
   "mimetype": "text/x-python",
   "name": "python",
   "nbconvert_exporter": "python",
   "pygments_lexer": "ipython3",
   "version": "3.6.9"
  }
 },
 "nbformat": 4,
 "nbformat_minor": 2
}
