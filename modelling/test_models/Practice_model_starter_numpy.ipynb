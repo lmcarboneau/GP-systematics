{
 "cells": [
  {
   "cell_type": "markdown",
   "metadata": {},
   "source": [
    "# Practice Model: A Simple Starter\n",
    "### Building a GP where "
   ]
  },
  {
   "cell_type": "markdown",
   "metadata": {},
   "source": [
    "$\n",
    "\\begin{align}\n",
    "\\Delta \\nu \\sim \\mathcal{GP}(f(mass), k(mass,mass^{\\prime}))\n",
    "\\end{align}\n",
    "$"
   ]
  },
  {
   "cell_type": "markdown",
   "metadata": {},
   "source": [
    "We'll start out by using `numpy` as a test to prove to ourselves that we understand GP implementations in general.\n",
    "\n",
    "> We are looking for the functional form so that we can implement the likelihood calculation later.  \n",
    "The independent parameter is mass and the observed is $\\Delta$$\\nu$\n",
    "\n",
    "***"
   ]
  },
  {
   "cell_type": "markdown",
   "metadata": {},
   "source": [
    "### Some assumptions\n",
    "In the first place, since this is a \"simple\" starter model, we can make some decisions before we even start to guide the process of implementing the model. Let's start with a fairly common GP, where the mean function is zero and the covariance function is a squared exponential. Why? Because that's where everyone starts from."
   ]
  },
  {
   "cell_type": "markdown",
   "metadata": {},
   "source": [
    "This squared exponential says that values of $mass$ and $mass^\\prime$ that are close to each other result in values of $k$ closer to 1. This ends up looking like a diagonal covariance matrix. \n",
    "\n",
    "Let's talk about why that makes sense -HERE-\n",
    "\n",
    "***"
   ]
  },
  {
   "cell_type": "code",
   "execution_count": 1,
   "metadata": {},
   "outputs": [],
   "source": [
    "import numpy as np\n",
    "import matplotlib.pyplot as plt\n",
    "import seaborn as sns"
   ]
  },
  {
   "cell_type": "markdown",
   "metadata": {},
   "source": [
    "Our observed value is $\\Delta$$\\nu$ - for now we'll call it `Dnu` for ease of typing  \n",
    "Our independent parameter is `mass` - this is a perfectly fine variable name, but remember that if you're following a tutorial for more complicated GP implementations, it's likely to be called $x$ "
   ]
  },
  {
   "cell_type": "markdown",
   "metadata": {},
   "source": [
    "Let's have a look at the dataset given:"
   ]
  },
  {
   "cell_type": "code",
   "execution_count": 6,
   "metadata": {},
   "outputs": [],
   "source": [
    "data = np.loadtxt('./Lindsey_version1.csv', delimiter=',', skiprows=1)\n",
    "Dnu = data[:,1]\n",
    "mass = data [:, 0]"
   ]
  },
  {
   "cell_type": "code",
   "execution_count": 7,
   "metadata": {},
   "outputs": [
    {
     "data": {
      "text/plain": [
       "<matplotlib.collections.PathCollection at 0x7faa1646a7b8>"
      ]
     },
     "execution_count": 7,
     "metadata": {},
     "output_type": "execute_result"
    },
    {
     "data": {
      "image/png": "[encoded data removed]",
      "text/plain": [
       "<Figure size 432x288 with 1 Axes>"
      ]
     },
     "metadata": {
      "needs_background": "light"
     },
     "output_type": "display_data"
    }
   ],
   "source": [
    "fig, ax = plt.subplots()\n",
    "ax.scatter(mass, Dnu)"
   ]
  },
  {
   "cell_type": "markdown",
   "metadata": {},
   "source": [
    "What we think we see in this plot is a relationship between stellar mass and observed $\\Delta$$\\nu$.  \n",
    "That is, this plot looks like it's trying to inform us that the large frequency separation decreases as stellar mass increases  \n",
    "It's also a really bad looking plot, but `TODO`: fix it later  \n",
    "\n",
    "*** \n",
    "\n",
    "Our goal is to try to find a good (even if it's wrong) posterior estimate of the functional form.  \n",
    "Posterior estimate: \"the shaded region\" <- what I think of as 'the area under the curve' except it's a space shaped by the mean function, constrained by observed points, and bounded by the standard deviation"
   ]
  },
  {
   "cell_type": "code",
   "execution_count": null,
   "metadata": {},
   "outputs": [],
   "source": []
  },
  {
   "cell_type": "markdown",
   "metadata": {},
   "source": [
    "### Some useful definitions before we move on:\n",
    "##### Hyperparameter:\n",
    "parameters of the covariance function; $\\theta$ is often used to represent this in formulae\n",
    "\n",
    "##### Overfitting/Overfitted Model:\n",
    "a statistical model that contains more parameters than are justified by the data; a model that \"memorizes\" training data instead of \"learning\" a trend\n",
    "\n",
    "##### Placeholer:\n",
    "some thing that I would benefit from having a definition that's easy to flip back to in moments of foggy understanding"
   ]
  },
  {
   "cell_type": "code",
   "execution_count": null,
   "metadata": {},
   "outputs": [],
   "source": []
  }
 ],
 "metadata": {
  "kernelspec": {
   "display_name": "Python 3",
   "language": "python",
   "name": "python3"
  },
  "language_info": {
   "codemirror_mode": {
    "name": "ipython",
    "version": 3
   },
   "file_extension": ".py",
   "mimetype": "text/x-python",
   "name": "python",
   "nbconvert_exporter": "python",
   "pygments_lexer": "ipython3",
   "version": "3.6.9"
  }
 },
 "nbformat": 4,
 "nbformat_minor": 2
}
