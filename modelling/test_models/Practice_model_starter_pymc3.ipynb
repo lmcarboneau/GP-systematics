{
 "cells": [
  {
   "cell_type": "markdown",
   "metadata": {},
   "source": [
    "# Practice Model: A Simple Starter\n",
    "### Building a GP where "
   ]
  },
  {
   "cell_type": "markdown",
   "metadata": {},
   "source": [
    "$\n",
    "\\begin{align}\n",
    "\\Delta \\nu \\sim \\mathcal{GP}(f(mass), k(mass,mass^{\\prime}))\n",
    "\\end{align}\n",
    "$"
   ]
  },
  {
   "cell_type": "markdown",
   "metadata": {},
   "source": [
    "Let's see what happens when we try to make a GP model with PyMC3\n",
    "\n",
    "> We are looking for the functional form so that we can implement the likelihood calculation later.  \n",
    "The independent parameter is mass and the observed is $\\Delta$$\\nu$\n",
    "\n",
    "***"
   ]
  },
  {
   "cell_type": "markdown",
   "metadata": {},
   "source": [
    "### Comments\n",
    "\n",
    "Some discussion points go here"
   ]
  },
  {
   "cell_type": "code",
   "execution_count": 1,
   "metadata": {},
   "outputs": [
    {
     "name": "stderr",
     "output_type": "stream",
     "text": [
      "WARNING (theano.tensor.blas): Using NumPy C-API based implementation for BLAS functions.\n"
     ]
    }
   ],
   "source": [
    "import numpy as np\n",
    "import matplotlib.pyplot as plt\n",
    "import seaborn as sns\n",
    "import pymc3 as pm"
   ]
  },
  {
   "cell_type": "markdown",
   "metadata": {},
   "source": [
    "Next pull in the data and create a model"
   ]
  },
  {
   "cell_type": "code",
   "execution_count": 2,
   "metadata": {},
   "outputs": [],
   "source": [
    "data = np.loadtxt('./Lindsey_version1.csv', delimiter=',', skiprows=1)\n",
    "Dnu = data[:,1]\n",
    "mass = data [:, 0]"
   ]
  },
  {
   "cell_type": "code",
   "execution_count": 29,
   "metadata": {},
   "outputs": [
    {
     "data": {
      "text/plain": [
       "[<matplotlib.lines.Line2D at 0x7fcb8dbd50b8>]"
      ]
     },
     "execution_count": 29,
     "metadata": {},
     "output_type": "execute_result"
    },
    {
     "data": {
      "image/png": "[encoded data removed]",
      "text/plain": [
       "<Figure size 864x288 with 2 Axes>"
      ]
     },
     "metadata": {
      "needs_background": "light"
     },
     "output_type": "display_data"
    }
   ],
   "source": [
    "# TODO: Make this not as awful\n",
    "fig, ax = plt.subplots(ncols=2, sharey=True, figsize=[12,4])\n",
    "ax[0].scatter(mass, Dnu)\n",
    "ax[1].plot(mass, Dnu)"
   ]
  },
  {
   "cell_type": "code",
   "execution_count": 45,
   "metadata": {},
   "outputs": [
    {
     "name": "stderr",
     "output_type": "stream",
     "text": [
      "Auto-assigning NUTS sampler...\n",
      "Initializing NUTS using jitter+adapt_diag...\n",
      "Multiprocess sampling (4 chains in 4 jobs)\n",
      "NUTS: [f_rotated_, sigma2, cov_mass, mean_func]\n",
      "Sampling 4 chains, 0 divergences: 100%|██████████| 12000/12000 [00:34<00:00, 351.00draws/s]\n"
     ]
    }
   ],
   "source": [
    "model_gp = pm.Model()\n",
    "X = mass[:, None]\n",
    "\n",
    "with model_gp:\n",
    "    # now with a GP and some priors\n",
    "    mean_func = pm.Normal('mean_func', 0, 1e2)\n",
    "    cov_mass = pm.Normal('cov_mass', 0, 1e2)\n",
    "    sigma2 = pm.Normal('sigma2', 0, 1e2)\n",
    "    \n",
    "    cov_func = pm.gp.cov.ExpQuad(1, ls = 0.05) # this is the squared exponential covariance function\n",
    "    gp = pm.gp.Latent(cov_func=cov_func) # makes the mean function 0\n",
    "    \n",
    "    f = gp.prior('f', X=X) # produces some x drawn from the GP\n",
    "    \n",
    "    fit = pm.Deterministic('fit', mean_func*mass + cov_mass + f)\n",
    "    \n",
    "    # what we expect to see:\n",
    "    obs = pm.Normal('obs', fit, observed=Dnu)\n",
    "    \n",
    "    trace = pm.sample(2000, tune=1000)"
   ]
  },
  {
   "cell_type": "code",
   "execution_count": 46,
   "metadata": {},
   "outputs": [
    {
     "data": {
      "text/html": [
       "<div>\n",
       "<style scoped>\n",
       "    .dataframe tbody tr th:only-of-type {\n",
       "        vertical-align: middle;\n",
       "    }\n",
       "\n",
       "    .dataframe tbody tr th {\n",
       "        vertical-align: top;\n",
       "    }\n",
       "\n",
       "    .dataframe thead th {\n",
       "        text-align: right;\n",
       "    }\n",
       "</style>\n",
       "<table border=\"1\" class=\"dataframe\">\n",
       "  <thead>\n",
       "    <tr style=\"text-align: right;\">\n",
       "      <th></th>\n",
       "      <th>mean</th>\n",
       "      <th>sd</th>\n",
       "      <th>hdi_3%</th>\n",
       "      <th>hdi_97%</th>\n",
       "      <th>mcse_mean</th>\n",
       "      <th>mcse_sd</th>\n",
       "      <th>ess_mean</th>\n",
       "      <th>ess_sd</th>\n",
       "      <th>ess_bulk</th>\n",
       "      <th>ess_tail</th>\n",
       "      <th>r_hat</th>\n",
       "    </tr>\n",
       "  </thead>\n",
       "  <tbody>\n",
       "    <tr>\n",
       "      <th>mean_func</th>\n",
       "      <td>-2.765</td>\n",
       "      <td>0.643</td>\n",
       "      <td>-3.945</td>\n",
       "      <td>-1.533</td>\n",
       "      <td>0.009</td>\n",
       "      <td>0.006</td>\n",
       "      <td>5486.0</td>\n",
       "      <td>5422.0</td>\n",
       "      <td>5494.0</td>\n",
       "      <td>5472.0</td>\n",
       "      <td>1.0</td>\n",
       "    </tr>\n",
       "    <tr>\n",
       "      <th>cov_mass</th>\n",
       "      <td>135.078</td>\n",
       "      <td>0.973</td>\n",
       "      <td>133.269</td>\n",
       "      <td>136.931</td>\n",
       "      <td>0.013</td>\n",
       "      <td>0.009</td>\n",
       "      <td>5450.0</td>\n",
       "      <td>5448.0</td>\n",
       "      <td>5452.0</td>\n",
       "      <td>5961.0</td>\n",
       "      <td>1.0</td>\n",
       "    </tr>\n",
       "  </tbody>\n",
       "</table>\n",
       "</div>"
      ],
      "text/plain": [
       "              mean     sd   hdi_3%  hdi_97%  mcse_mean  mcse_sd  ess_mean  \\\n",
       "mean_func   -2.765  0.643   -3.945   -1.533      0.009    0.006    5486.0   \n",
       "cov_mass   135.078  0.973  133.269  136.931      0.013    0.009    5450.0   \n",
       "\n",
       "           ess_sd  ess_bulk  ess_tail  r_hat  \n",
       "mean_func  5422.0    5494.0    5472.0    1.0  \n",
       "cov_mass   5448.0    5452.0    5961.0    1.0  "
      ]
     },
     "execution_count": 46,
     "metadata": {},
     "output_type": "execute_result"
    }
   ],
   "source": [
    "pm.summary(trace, var_names=[\"mean_func\", \"cov_mass\"])"
   ]
  },
  {
   "cell_type": "code",
   "execution_count": null,
   "metadata": {},
   "outputs": [],
   "source": [
    "fig, ax = plt.subplots()\n",
    "ax.scatter(mass, Dnu)\n",
    "\n",
    "mean = np.mean(trace['fit'], axis=0)\n",
    "std = np.std(trace['fit'], axis=0)\n",
    "\n",
    "ax.fill_between(mass, mean-std, mean+std, alpha=0.3, color='g')"
   ]
  },
  {
   "cell_type": "markdown",
   "metadata": {},
   "source": [
    "This seems okay? But not great either? It's pretty vague, even when there's information available - unless that's more to do with the scaling. It's also probably because I don't (shouldn't?) trust the data itself. As much as I like to see when the plots pinch in on the points, I really don't know that they're telling me the \"truth\" about the relationship between mass and observed $\\Delta$$\\nu$."
   ]
  },
  {
   "cell_type": "code",
   "execution_count": null,
   "metadata": {},
   "outputs": [],
   "source": [
    "X_new = np.linspace(.75, 2.4, 50)[:, None]\n",
    "\n",
    "with model_gp:\n",
    "    f_new = gp.conditional('f_new', X_new)\n",
    "    pred_samples = pm.sample_posterior_predictive(trace, vars=[f_new, fit], samples=1000)"
   ]
  },
  {
   "cell_type": "code",
   "execution_count": null,
   "metadata": {},
   "outputs": [],
   "source": [
    "from pymc3.gp.util import plot_gp_dist\n",
    "fig, ax = plt.subplots()\n",
    "plot_gp_dist(ax, pred_samples['f_new'], X_new);\n",
    "ax.set_xlabel('mass')\n",
    "ax.set_ylabel(r'$\\mathcal{GP}$ contribution')"
   ]
  },
  {
   "cell_type": "code",
   "execution_count": null,
   "metadata": {},
   "outputs": [],
   "source": []
  }
 ],
 "metadata": {
  "kernelspec": {
   "display_name": "Python 3",
   "language": "python",
   "name": "python3"
  },
  "language_info": {
   "codemirror_mode": {
    "name": "ipython",
    "version": 3
   },
   "file_extension": ".py",
   "mimetype": "text/x-python",
   "name": "python",
   "nbconvert_exporter": "python",
   "pygments_lexer": "ipython3",
   "version": "3.6.9"
  }
 },
 "nbformat": 4,
 "nbformat_minor": 2
}
